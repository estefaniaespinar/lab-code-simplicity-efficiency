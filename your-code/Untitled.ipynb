{
 "cells": [
  {
   "cell_type": "code",
   "execution_count": 1,
   "metadata": {
    "scrolled": true
   },
   "outputs": [
    {
     "name": "stdout",
     "output_type": "stream",
     "text": [
      "Welcome to this calculator!\n",
      "It can add and subtract whole numbers from zero to five\n",
      "Please choose your first number (zero to five): 4\n",
      "What do you want to do? plus or minus: plus\n",
      "Please choose your second number (zero to five): 3\n",
      "I am not able to answer this question. Check your input.\n",
      "Thanks for using this calculator, goodbye :)\n"
     ]
    }
   ],
   "source": [
    "\"\"\"\n",
    "This is a dumb calculator that can add and subtract whole numbers from zero to five.\n",
    "When you run the code, you are prompted to enter two numbers (in the form of English\n",
    "word instead of number) and the operator sign (also in the form of English word).\n",
    "The code will perform the calculation and give the result if your input is what it\n",
    "expects.\n",
    "\n",
    "The code is very long and messy. Refactor it according to what you have learned about\n",
    "code simplicity and efficiency.\n",
    "\"\"\"\n",
    "\n",
    "print('Welcome to this calculator!')\n",
    "print('It can add and subtract whole numbers from zero to five')\n",
    "\n",
    "\n",
    "\n",
    "def first_number():\n",
    "    \n",
    "    a = \"Please choose a number from 0 to 5: \"\n",
    "    b = \"The number must be an integer from 1 to 15. Please, try again \"\n",
    "    first = input(a)\n",
    "    \n",
    "    while not a.isdigit() or int(a) not in range(0,5):\n",
    "        a = input(b)\n",
    "        \n",
    "    return int(b)\n",
    "\n",
    "def right_int():\n",
    "\n",
    "    n_num = \"Please, type a number from 1 to 15: \"\n",
    "    w_num = \"The number must be an integer from 1 to 15. Please, try again.\"\n",
    "    n_user = input(n_num)\n",
    "\n",
    "    while not n_user.isdigit() or int(n_user) not in range(1, 16):\n",
    "        n_user = input(w_num)\n",
    "\n",
    "    return int(n_user)\n",
    "\n",
    "dict1={\"zero\":0,\"one\":1,\"two\":}\n",
    "\n",
    "a = input('Please choose your first number (zero to five): ')\n",
    "b = input('What do you want to do? plus or minus: ')\n",
    "c = input('Please choose your second number (zero to five): ')\n",
    "\n",
    "if a == 'zero' and b == 'plus'  and c == 'zero':\n",
    "    print(\"zero plus zero equals zero\")\n",
    "if a == 'zero' and b == 'plus'  and c == 'one':\n",
    "    print(\"zero plus one equals one\")\n",
    "if a == 'zero' and b == 'plus'  and c == 'two':\n",
    "    print(\"zero plus two equals two\")\n",
    "if a == 'zero' and b == 'plus'  and c == 'three':\n",
    "    print(\"zero plus three equals three\")\n",
    "if a == 'zero' and b == 'plus'  and c == 'four':\n",
    "    print(\"zero plus four equals four\")\n",
    "if a == 'zero' and b == 'plus'  and c == 'five':\n",
    "    print(\"zero plus five equals five\")\n",
    "if a == 'one' and b == 'plus'  and c == 'zero':\n",
    "    print(\"one plus zero equals one\")\n",
    "if a == 'one' and b == 'plus'  and c == 'one':\n",
    "    print(\"one plus one equals two\")\n",
    "if a == 'one' and b == 'plus'  and c == 'two':\n",
    "    print(\"one plus two equals three\")\n",
    "if a == 'one' and b == 'plus'  and c == 'three':\n",
    "    print(\"one plus three equals four\")\n",
    "if a == 'one' and b == 'plus'  and c == 'four':\n",
    "    print(\"one plus four equals five\")\n",
    "if a == 'one' and b == 'plus'  and c == 'five':\n",
    "    print(\"one plus five equals six\")\n",
    "if a == 'two' and b == 'plus'  and c == 'zero':\n",
    "    print(\"two plus zero equals two\")\n",
    "if a == 'two' and b == 'plus'  and c == 'one':\n",
    "    print(\"two plus one equals three\")\n",
    "if a == 'two' and b == 'plus'  and c == 'two':\n",
    "    print(\"two plus two equals four\")\n",
    "if a == 'two' and b == 'plus'  and c == 'three':\n",
    "    print(\"two plus three equals five\")\n",
    "if a == 'two' and b == 'plus'  and c == 'four':\n",
    "    print(\"two plus four equals six\")\n",
    "if a == 'two' and b == 'plus'  and c == 'five':\n",
    "    print(\"two plus five equals seven\")\n",
    "if a == 'three' and b == 'plus'  and c == 'zero':\n",
    "    print(\"three plus zero equals three\")\n",
    "if a == 'three' and b == 'plus'  and c == 'one':\n",
    "    print(\"three plus one equals four\")\n",
    "if a == 'three' and b == 'plus'  and c == 'two':\n",
    "    print(\"three plus two equals five\")\n",
    "if a == 'three' and b == 'plus'  and c == 'three':\n",
    "    print(\"three plus three equals six\")\n",
    "if a == 'three' and b == 'plus'  and c == 'four':\n",
    "    print(\"three plus four equals seven\")\n",
    "if a == 'three' and b == 'plus'  and c == 'five':\n",
    "    print(\"three plus five equals eight\")\n",
    "if a == 'four' and b == 'plus'  and c == 'zero':\n",
    "    print(\"four plus zero equals four\")\n",
    "if a == 'four' and b == 'plus'  and c == 'one':\n",
    "    print(\"four plus one equals five\")\n",
    "if a == 'four' and b == 'plus'  and c == 'two':\n",
    "    print(\"four plus two equals six\")\n",
    "if a == 'four' and b == 'plus'  and c == 'three':\n",
    "    print(\"four plus three equals seven\")\n",
    "if a == 'four' and b == 'plus'  and c == 'four':\n",
    "    print(\"four plus four equals eight\")\n",
    "if a == 'four' and b == 'plus'  and c == 'five':\n",
    "    print(\"four plus five equals nine\")\n",
    "if a == 'five' and b == 'plus'  and c == 'zero':\n",
    "    print(\"five plus zero equals five\")\n",
    "if a == 'five' and b == 'plus'  and c == 'one':\n",
    "    print(\"five plus one equals six\")\n",
    "if a == 'five' and b == 'plus'  and c == 'two':\n",
    "    print(\"five plus two equals seven\")\n",
    "if a == 'five' and b == 'plus'  and c == 'three':\n",
    "    print(\"five plus three equals eight\")\n",
    "if a == 'five' and b == 'plus'  and c == 'four':\n",
    "    print(\"five plus four equals nine\")\n",
    "if a == 'five' and b == 'plus'  and c == 'five':\n",
    "    print(\"five plus five equals ten\")\n",
    "\n",
    "\n",
    "if a == 'zero' and b == 'minus' and c == 'zero':\n",
    "    print(\"zero minus zero equals zero\")\n",
    "if a == 'zero' and b == 'minus' and c == 'one':\n",
    "    print(\"zero minus one equals negative one\")\n",
    "if a == 'zero' and b == 'minus' and c == 'two':\n",
    "    print(\"zero minus two equals negative two\")\n",
    "if a == 'zero' and b == 'minus' and c == 'three':\n",
    "    print(\"zero minus three equals negative three\")\n",
    "if a == 'zero' and b == 'minus' and c == 'four':\n",
    "    print(\"zero minus four equals negative four\")\n",
    "if a == 'zero' and b == 'minus' and c == 'five':\n",
    "    print(\"zero minus five equals negative five\")\n",
    "if a == 'one' and b == 'minus' and c == 'zero':\n",
    "    print(\"one minus zero equals one\")\n",
    "if a == 'one' and b == 'minus' and c == 'one':\n",
    "    print(\"one minus one equals zero\")\n",
    "if a == 'one' and b == 'minus' and c == 'two':\n",
    "    print(\"one minus two equals negative one\")\n",
    "if a == 'one' and b == 'minus' and c == 'three':\n",
    "    print(\"one minus three equals negative three\")\n",
    "if a == 'one' and b == 'minus' and c == 'four':\n",
    "    print(\"one minus four equals negative three\")\n",
    "if a == 'one' and b == 'minus' and c == 'five':\n",
    "    print(\"one minus five equals negative four\")\n",
    "if a == 'two' and b == 'minus' and c == 'zero':\n",
    "    print(\"two minus zero equals two\")\n",
    "if a == 'two' and b == 'minus' and c == 'one':\n",
    "    print(\"two minus one equals one\")\n",
    "if a == 'two' and b == 'minus' and c == 'two':\n",
    "    print(\"two minus two equals zero\")\n",
    "if a == 'two' and b == 'minus' and c == 'three':\n",
    "    print(\"two minus three equals negative one\")\n",
    "if a == 'two' and b == 'minus' and c == 'four':\n",
    "    print(\"two minus four equals negative two\")\n",
    "if a == 'two' and b == 'minus' and c == 'five':\n",
    "    print(\"two minus five equals negative three\")\n",
    "if a == 'three' and b == 'minus' and c == 'zero':\n",
    "    print(\"three minus zero equals three\")\n",
    "if a == 'three' and b == 'minus' and c == 'one':\n",
    "    print(\"three minus one equals two\")\n",
    "if a == 'three' and b == 'minus' and c == 'two':\n",
    "    print(\"three minus two equals one\")\n",
    "if a == 'three' and b == 'minus' and c == 'three':\n",
    "    print(\"three minus three equals zero\")\n",
    "if a == 'three' and b == 'minus' and c == 'four':\n",
    "    print(\"three minus four equals negative one\")\n",
    "if a == 'three' and b == 'minus' and c == 'five':\n",
    "    print(\"three minus five equals negative two\")\n",
    "if a == 'four' and b == 'minus' and c == 'zero':\n",
    "    print(\"four minus zero equals four\")\n",
    "if a == 'four' and b == 'minus' and c == 'one':\n",
    "    print(\"four minus one equals three\")\n",
    "if a == 'four' and b == 'minus' and c == 'two':\n",
    "    print(\"four minus two equals two\")\n",
    "if a == 'four' and b == 'minus' and c == 'three':\n",
    "    print(\"four minus three equals one\")\n",
    "if a == 'four' and b == 'minus' and c == 'four':\n",
    "    print(\"four minus four equals zero\")\n",
    "if a == 'four' and b == 'minus' and c == 'five':\n",
    "    print(\"four minus five equals negative one\")\n",
    "if a == 'five' and b == 'minus' and c == 'zero':\n",
    "    print(\"five minus zero equals five\")\n",
    "if a == 'five' and b == 'minus' and c == 'one':\n",
    "    print(\"five minus one equals four\")\n",
    "if a == 'five' and b == 'minus' and c == 'two':\n",
    "    print(\"five minus two equals three\")\n",
    "if a == 'five' and b == 'minus' and c == 'three':\n",
    "    print(\"five minus three equals two\")\n",
    "if a == 'five' and b == 'minus' and c == 'four':\n",
    "    print(\"five minus four equals one\")\n",
    "if a == 'five' and b == 'minus' and c == 'five':\n",
    "    print(\"five minus five equals zero\")\n",
    "\n",
    "\n",
    "if (not a == 'zero' and not a == 'one' and not a == 'two' and not a == 'three' and not a == 'four' and not a == 'five') or (not c == 'zero' and not c == 'one' and not c == 'two' and not c == 'three' and not c == 'four' and not c == 'five') or (not b == 'plus' and not b == 'minus'):\n",
    "    print(\"I am not able to answer this question. Check your input.\")\n",
    "\n",
    "print(\"Thanks for using this calculator, goodbye :)\")\n"
   ]
  },
  {
   "cell_type": "code",
   "execution_count": 4,
   "metadata": {},
   "outputs": [],
   "source": [
    "def first_number():\n",
    "    a = input('Please choose a number from 0 to 5: ')\n",
    "    b = input('The number must be an integer from 1 to 5. Please, try again: ')\n",
    "    first = a\n",
    "    \n",
    "    while (a.isdigit() == False) or (a not in range(0,5)):\n",
    "        print(b)\n",
    "        b=first\n",
    "    return first\n",
    "\n",
    "def right_int():\n",
    "\n",
    "    n_num = \"Please, type a number from 1 to 15: \"\n",
    "    w_num = \"The number must be an integer from 1 to 15. Please, try again.\"\n",
    "    n_user = input(n_num)\n",
    "\n",
    "    while not n_user.isdigit() or int(n_user) not in range(1, 16):\n",
    "        n_user = input(w_num)\n",
    "\n",
    "    return int(n_user)"
   ]
  },
  {
   "cell_type": "code",
   "execution_count": 21,
   "metadata": {},
   "outputs": [
    {
     "ename": "SyntaxError",
     "evalue": "invalid syntax (<ipython-input-21-b8ab570a1c49>, line 6)",
     "output_type": "error",
     "traceback": [
      "\u001b[0;36m  File \u001b[0;32m\"<ipython-input-21-b8ab570a1c49>\"\u001b[0;36m, line \u001b[0;32m6\u001b[0m\n\u001b[0;31m    while nit a.isdigit() or int(a) not in range(0,5):\u001b[0m\n\u001b[0m              ^\u001b[0m\n\u001b[0;31mSyntaxError\u001b[0m\u001b[0;31m:\u001b[0m invalid syntax\n"
     ]
    }
   ],
   "source": [
    "def first_number():\n",
    "    a = 'Please choose a number from 0 to 5: '\n",
    "    b = 'The number must be an integer from 1 to 5. Please, try again: '\n",
    "    first = input(a)\n",
    "    \n",
    "    while nit a.isdigit() or int(a) not in range(0,5):\n",
    "        first = input(a)\n",
    "        \n",
    "\n",
    "        return int(first)"
   ]
  },
  {
   "cell_type": "code",
   "execution_count": null,
   "metadata": {},
   "outputs": [
    {
     "name": "stdout",
     "output_type": "stream",
     "text": [
      "Please choose a number from 0 to 5: wefghj\n",
      "Please choose a number from 0 to 5: 3456\n"
     ]
    }
   ],
   "source": [
    "first_number()"
   ]
  },
  {
   "cell_type": "code",
   "execution_count": null,
   "metadata": {
    "collapsed": true
   },
   "outputs": [],
   "source": []
  },
  {
   "cell_type": "code",
   "execution_count": null,
   "metadata": {
    "collapsed": true
   },
   "outputs": [],
   "source": []
  },
  {
   "cell_type": "code",
   "execution_count": 23,
   "metadata": {
    "collapsed": true
   },
   "outputs": [],
   "source": [
    "def right_int():\n",
    "\n",
    "    n_num = \"Please, type a number from 1 to 15: \"\n",
    "    w_num = \"The number must be an integer from 1 to 15. Please, try again.\"\n",
    "    n_user = input(n_num)\n",
    "\n",
    "    while not n_user.isdigit() or int(n_user) not in range(1, 16):\n",
    "        n_user = input(w_num)\n",
    "\n",
    "    return int(n_user)"
   ]
  },
  {
   "cell_type": "code",
   "execution_count": null,
   "metadata": {
    "collapsed": true
   },
   "outputs": [],
   "source": [
    "def first_number():\n",
    "    \n",
    "    a = \"Please choose a number from 0 to 5: \"\n",
    "    b = \"The number must be an integer from 1 to 15. Please, try again \"\n",
    "    first = input(a)\n",
    "    \n",
    "    while not a.isdigit() or int(a) not in range(0,5):\n",
    "        a = input(b)\n",
    "        \n",
    "    return int(b)"
   ]
  },
  {
   "cell_type": "code",
   "execution_count": null,
   "metadata": {
    "collapsed": true
   },
   "outputs": [],
   "source": [
    "first_number()"
   ]
  },
  {
   "cell_type": "code",
   "execution_count": null,
   "metadata": {
    "collapsed": true
   },
   "outputs": [],
   "source": []
  }
 ],
 "metadata": {
  "kernelspec": {
   "display_name": "Python 3",
   "language": "python",
   "name": "python3"
  },
  "language_info": {
   "codemirror_mode": {
    "name": "ipython",
    "version": 3
   },
   "file_extension": ".py",
   "mimetype": "text/x-python",
   "name": "python",
   "nbconvert_exporter": "python",
   "pygments_lexer": "ipython3",
   "version": "3.6.3"
  }
 },
 "nbformat": 4,
 "nbformat_minor": 2
}
