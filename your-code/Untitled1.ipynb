{
 "cells": [
  {
   "cell_type": "code",
   "execution_count": 79,
   "metadata": {},
   "outputs": [
    {
     "name": "stdout",
     "output_type": "stream",
     "text": [
      "Enter minimum string length: 3\n",
      "Enter maximum string length: 45\n",
      "How many random strings to generate? 4\n",
      "['2j5nlcaz1nupkqa5o4cif7', 'gyjmi5', 'qaxvs75zr1bnvenfye1rfjevcl9yb787oa', 'ax4e97fcze9vxaj1ha3261ungeld2']\n"
     ]
    }
   ],
   "source": [
    "\"\"\"\n",
    "The code below generates a given number of random strings that consists of numbers and \n",
    "lower case English letters. You can also define the range of the variable lengths of\n",
    "the strings being generated.\n",
    "\n",
    "The code is functional but has a lot of room for improvement. Use what you have learned\n",
    "about simple and efficient code, refactor the code.\n",
    "\"\"\"\n",
    "\n",
    "def RandomStringGenerator(l=12, a=['a','b','c','d','e','f','g','h','i','j','k','l','m','n','o','p','q','r','s','t','u','v','w','x','y','z','0','1','2','3','4','5','6','7','8','9']):\n",
    "    p = 0\n",
    "    s = ''\n",
    "    while p<l:\n",
    "        import random\n",
    "        s += random.choice(a)\n",
    "        p += 1\n",
    "    return s\n",
    "\n",
    "def BatchStringGenerator(n, a=8, b=12):\n",
    "    r = []\n",
    "    for i in range(n):\n",
    "        c = None\n",
    "        if a < b:\n",
    "            import random\n",
    "            c = random.choice(range(a, b))\n",
    "        elif a == b:\n",
    "            c = a\n",
    "        else:\n",
    "            import sys\n",
    "            sys.exit('Incorrect min and max string lengths. Try again.')\n",
    "        r.append(RandomStringGenerator(c))\n",
    "    return r\n",
    "\n",
    "a = input('Enter minimum string length: ')\n",
    "b = input('Enter maximum string length: ')\n",
    "n = input('How many random strings to generate? ')\n",
    "\n",
    "print(BatchStringGenerator(int(n), int(a), int(b)))"
   ]
  },
  {
   "cell_type": "code",
   "execution_count": 141,
   "metadata": {},
   "outputs": [],
   "source": [
    "def minlen_strings():\n",
    "    while True:\n",
    "        a = input('Enter minimum string length between 1 and 100: ')\n",
    "        \n",
    "        if a.isdigit():\n",
    "            if int(a) in range (1,101):\n",
    "                a = int(a)\n",
    "                return int(a)\n",
    "        else:\n",
    "            print('Sorry, the number has to be an integer from 0 to 100. Try again.')"
   ]
  },
  {
   "cell_type": "code",
   "execution_count": 142,
   "metadata": {},
   "outputs": [],
   "source": [
    "def maxlen_strings():\n",
    "    while True:\n",
    "        b = input('Enter max string length between 1 and 100: ')\n",
    "        \n",
    "        if b.isdigit():\n",
    "            b = int(b)\n",
    "            if (b > a) and (b in range(1,100)):\n",
    "                b = int(b)\n",
    "                return int(b)\n",
    "            elif b < a:\n",
    "                print('Sorry, the number has to be higher than the max number of strings.')\n",
    "        elif b.isdigit() == False:\n",
    "            print('Sorry, the number has to be an integer from 0 to 100. try again.')"
   ]
  },
  {
   "cell_type": "code",
   "execution_count": 143,
   "metadata": {},
   "outputs": [],
   "source": [
    "def numofstrings():\n",
    "    while True:\n",
    "        c = input('How many strings do you want in a range betwen 1 and 20?: ')\n",
    "    \n",
    "        if c.isdigit():\n",
    "            c = int(c)\n",
    "            if c in range(0,20):\n",
    "                return c\n",
    "            else: \n",
    "                print('Sorry, the number has to be an integer from 0 to 20')\n",
    "        elif c.isdigit() == False:\n",
    "            print('Sorry, the number has to be an integer from 0 to 20')"
   ]
  },
  {
   "cell_type": "code",
   "execution_count": 162,
   "metadata": {},
   "outputs": [
    {
     "name": "stdout",
     "output_type": "stream",
     "text": [
      "Enter minimum string length between 1 and 100: 34\n"
     ]
    }
   ],
   "source": [
    "a = min_strings()"
   ]
  },
  {
   "cell_type": "code",
   "execution_count": 163,
   "metadata": {},
   "outputs": [
    {
     "name": "stdout",
     "output_type": "stream",
     "text": [
      "Enter max string length between 1 and 100: 56\n"
     ]
    }
   ],
   "source": [
    "b = max_strings()"
   ]
  },
  {
   "cell_type": "code",
   "execution_count": 164,
   "metadata": {},
   "outputs": [
    {
     "name": "stdout",
     "output_type": "stream",
     "text": [
      "How many strings do you want in a range betwen 1 and 20?: 4\n"
     ]
    }
   ],
   "source": [
    "c = numofstrings()"
   ]
  },
  {
   "cell_type": "code",
   "execution_count": null,
   "metadata": {},
   "outputs": [],
   "source": [
    "\n",
    "    \n",
    "    "
   ]
  },
  {
   "cell_type": "code",
   "execution_count": 166,
   "metadata": {},
   "outputs": [
    {
     "data": {
      "text/plain": [
       "'trjkdsi4ykp2bkwumwlhz14u1ryizqahab4d58vquxdcam8vjtts098jz55li0ilj17xt2dmzjvo0nesadheqg4iwx136y0rnq7x'"
      ]
     },
     "execution_count": 166,
     "metadata": {},
     "output_type": "execute_result"
    }
   ],
   "source": [
    "\"\".join(random.choices(string.ascii_lowercase + string.digits, k= 100))"
   ]
  },
  {
   "cell_type": "code",
   "execution_count": 148,
   "metadata": {},
   "outputs": [
    {
     "ename": "SyntaxError",
     "evalue": "invalid syntax (<ipython-input-148-aea3f44df8bd>, line 1)",
     "output_type": "error",
     "traceback": [
      "\u001b[0;36m  File \u001b[0;32m\"<ipython-input-148-aea3f44df8bd>\"\u001b[0;36m, line \u001b[0;32m1\u001b[0m\n\u001b[0;31m    def randomString(stringLength=random.choice(range(a, b)):\u001b[0m\n\u001b[0m                                                            ^\u001b[0m\n\u001b[0;31mSyntaxError\u001b[0m\u001b[0;31m:\u001b[0m invalid syntax\n"
     ]
    }
   ],
   "source": [
    "\n",
    "\n",
    "\n",
    "def randomString(stringLength=random.choice(range(a, b)):\n",
    "    \"\"\"Generate a random string of fixed length \"\"\"\n",
    "    c = numofstrings()\n",
    "    letters = random.choices(string.ascii_lowercase + string.digits, k=100)\n",
    "    return ''.join(random.choice(letters) for i in range(0,c))\n",
    "\n",
    "print (\"Random String is \", randomString() )\n",
    "print (\"Random String is \", randomString(10) )\n",
    "print (\"Random String is \", randomString(10) )\n",
    "                 \n",
    "for x in range (0,c):\n",
    "    print(random.choice(list,random.choice(range(a, b))\n",
    "    "
   ]
  },
  {
   "cell_type": "code",
   "execution_count": null,
   "metadata": {},
   "outputs": [],
   "source": []
  },
  {
   "cell_type": "code",
   "execution_count": null,
   "metadata": {},
   "outputs": [],
   "source": []
  },
  {
   "cell_type": "code",
   "execution_count": null,
   "metadata": {},
   "outputs": [],
   "source": []
  },
  {
   "cell_type": "code",
   "execution_count": null,
   "metadata": {},
   "outputs": [],
   "source": []
  },
  {
   "cell_type": "code",
   "execution_count": null,
   "metadata": {
    "collapsed": true
   },
   "outputs": [],
   "source": []
  }
 ],
 "metadata": {
  "kernelspec": {
   "display_name": "Python 3",
   "language": "python",
   "name": "python3"
  },
  "language_info": {
   "codemirror_mode": {
    "name": "ipython",
    "version": 3
   },
   "file_extension": ".py",
   "mimetype": "text/x-python",
   "name": "python",
   "nbconvert_exporter": "python",
   "pygments_lexer": "ipython3",
   "version": "3.6.3"
  }
 },
 "nbformat": 4,
 "nbformat_minor": 2
}
