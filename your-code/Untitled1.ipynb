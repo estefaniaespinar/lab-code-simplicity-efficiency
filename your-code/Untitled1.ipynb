{
 "cells": [
  {
   "cell_type": "code",
   "execution_count": 13,
   "metadata": {},
   "outputs": [],
   "source": [
    "def inicio():\n",
    "    print('Welcome to this calculator!')\n",
    "    print('It can add and subtract whole numbers from zero to five')"
   ]
  },
  {
   "cell_type": "code",
   "execution_count": 14,
   "metadata": {
    "collapsed": true
   },
   "outputs": [],
   "source": [
    "def first_number():\n",
    "    while True:\n",
    "        a = input('Please choose your first number from 0 to 5: ')\n",
    "\n",
    "        if a.isdigit():\n",
    "            if int(a) in range(0,6):\n",
    "                return int(a)\n",
    "        \n",
    "        else :\n",
    "            print(\"Sorry I don't understand you, enter another number between 0 and 5: \")"
   ]
  },
  {
   "cell_type": "code",
   "execution_count": 15,
   "metadata": {
    "collapsed": true
   },
   "outputs": [],
   "source": [
    "def signo():\n",
    "    while True:\n",
    "        b = input('Insert + if you want to sum the number or - if you want to rest it: ')\n",
    "        \n",
    "        if (b.isdigit()) == False | (b.isalpha()) == False:\n",
    "            return b\n",
    "        else:\n",
    "            print(\"Sorry I don't understand you, enter + or - signs: \")"
   ]
  },
  {
   "cell_type": "code",
   "execution_count": 16,
   "metadata": {
    "collapsed": true
   },
   "outputs": [],
   "source": [
    "def second_number():\n",
    "    while True:\n",
    "        c = input('Please choose your second number from 0 to 5: ')\n",
    "    \n",
    "        if c.isdigit():\n",
    "            if int(c) in range(0,6):\n",
    "                return int(c)\n",
    "\n",
    "        else :\n",
    "            print(\"Sorry I don't understand you, enter another number between 0 and 5: \")"
   ]
  },
  {
   "cell_type": "code",
   "execution_count": null,
   "metadata": {
    "collapsed": true
   },
   "outputs": [],
   "source": []
  },
  {
   "cell_type": "code",
   "execution_count": null,
   "metadata": {
    "collapsed": true
   },
   "outputs": [],
   "source": []
  }
 ],
 "metadata": {
  "kernelspec": {
   "display_name": "Python 3",
   "language": "python",
   "name": "python3"
  },
  "language_info": {
   "codemirror_mode": {
    "name": "ipython",
    "version": 3
   },
   "file_extension": ".py",
   "mimetype": "text/x-python",
   "name": "python",
   "nbconvert_exporter": "python",
   "pygments_lexer": "ipython3",
   "version": "3.6.3"
  }
 },
 "nbformat": 4,
 "nbformat_minor": 2
}
