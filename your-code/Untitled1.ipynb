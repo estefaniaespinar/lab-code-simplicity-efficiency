{
 "cells": [
  {
   "cell_type": "code",
   "execution_count": 124,
   "metadata": {
    "collapsed": true
   },
   "outputs": [],
   "source": [
    "def minlen_strings():\n",
    "    while True:\n",
    "        a = input('Enter minimum string length between 1 and 100: ')\n",
    "        \n",
    "        if a.isdigit():\n",
    "            if int(a) in range (1,101):\n",
    "                a = int(a)\n",
    "                return int(a)\n",
    "        else:\n",
    "            print('Sorry, the number has to be an integer from 0 to 100. Try again.')"
   ]
  },
  {
   "cell_type": "code",
   "execution_count": 125,
   "metadata": {
    "collapsed": true
   },
   "outputs": [],
   "source": [
    "def maxlen_strings():\n",
    "    while True:\n",
    "        b = input('Enter max string length between 1 and 100: ')\n",
    "        \n",
    "        if b.isdigit():\n",
    "            b = int(b)\n",
    "            if (b > a) and (b in range(1,100)):\n",
    "                b = int(b)\n",
    "                return int(b)\n",
    "            elif b < a:\n",
    "                print('Sorry, the number has to be higher than the max number of strings.')\n",
    "        elif b.isdigit() == False:\n",
    "            print('Sorry, the number has to be an integer from 0 to 100. try again.')"
   ]
  },
  {
   "cell_type": "code",
   "execution_count": 126,
   "metadata": {
    "collapsed": true
   },
   "outputs": [],
   "source": [
    "def numofstrings():\n",
    "    while True:\n",
    "        c = input('How many strings do you want in a range betwen 1 and 20?: ')\n",
    "    \n",
    "        if c.isdigit():\n",
    "            c = int(c)\n",
    "            if c in range(0,20):\n",
    "                return int(c)\n",
    "            else: \n",
    "                print('Sorry, the number has to be an integer from 0 to 20')\n",
    "        elif c.isdigit() == False:\n",
    "            print('Sorry, the number has to be an integer from 0 to 20')"
   ]
  },
  {
   "cell_type": "code",
   "execution_count": 127,
   "metadata": {},
   "outputs": [
    {
     "name": "stdout",
     "output_type": "stream",
     "text": [
      "Enter minimum string length between 1 and 100: 25\n"
     ]
    }
   ],
   "source": [
    "a = minlen_strings()"
   ]
  },
  {
   "cell_type": "code",
   "execution_count": 128,
   "metadata": {},
   "outputs": [
    {
     "name": "stdout",
     "output_type": "stream",
     "text": [
      "Enter max string length between 1 and 100: 36\n"
     ]
    }
   ],
   "source": [
    "b = maxlen_strings()"
   ]
  },
  {
   "cell_type": "code",
   "execution_count": 129,
   "metadata": {},
   "outputs": [
    {
     "name": "stdout",
     "output_type": "stream",
     "text": [
      "How many strings do you want in a range betwen 1 and 20?: 6\n"
     ]
    }
   ],
   "source": [
    "c = numofstrings()"
   ]
  },
  {
   "cell_type": "code",
   "execution_count": 136,
   "metadata": {},
   "outputs": [],
   "source": [
    "def RandomStringGenerator():\n",
    "    \n",
    "    lista_pre = []\n",
    "    lista_final = []\n",
    "    import random\n",
    "    import string\n",
    "    random_lst = random.choices(string.ascii_lowercase + string.digits, k= 100)\n",
    "\n",
    "    for x in range(0,c):\n",
    "        \n",
    "        lista_pre.append(\"\".join(random.choices(random_lst, k = 100)))\n",
    "    \n",
    "    for s in lista_pre:\n",
    "        d = random.choices(range(a,b))\n",
    "        d = int(d[0])\n",
    "        lista_final.append(s[0:d])\n",
    "        print(lista_final)\n"
   ]
  },
  {
   "cell_type": "code",
   "execution_count": 137,
   "metadata": {
    "scrolled": true
   },
   "outputs": [
    {
     "name": "stdout",
     "output_type": "stream",
     "text": [
      "['uia3eyuqkffojwarj7na9abvjrln18lm']\n",
      "['uia3eyuqkffojwarj7na9abvjrln18lm', 'y00lezsti0pwocizalfibljkzagz']\n",
      "['uia3eyuqkffojwarj7na9abvjrln18lm', 'y00lezsti0pwocizalfibljkzagz', '0jtgu9fb1wser2kqs7mjifet4']\n",
      "['uia3eyuqkffojwarj7na9abvjrln18lm', 'y00lezsti0pwocizalfibljkzagz', '0jtgu9fb1wser2kqs7mjifet4', 'knfejkj6dktwuntdmmj4qjglgeqd']\n",
      "['uia3eyuqkffojwarj7na9abvjrln18lm', 'y00lezsti0pwocizalfibljkzagz', '0jtgu9fb1wser2kqs7mjifet4', 'knfejkj6dktwuntdmmj4qjglgeqd', 'qpuv9vakzfz2ic6agljrejs909rej20lej']\n",
      "['uia3eyuqkffojwarj7na9abvjrln18lm', 'y00lezsti0pwocizalfibljkzagz', '0jtgu9fb1wser2kqs7mjifet4', 'knfejkj6dktwuntdmmj4qjglgeqd', 'qpuv9vakzfz2ic6agljrejs909rej20lej', 'r8vijt1ub9jkijfyau4luilk0']\n"
     ]
    }
   ],
   "source": [
    "RandomStringGenerator()"
   ]
  }
 ],
 "metadata": {
  "kernelspec": {
   "display_name": "Python 3",
   "language": "python",
   "name": "python3"
  },
  "language_info": {
   "codemirror_mode": {
    "name": "ipython",
    "version": 3
   },
   "file_extension": ".py",
   "mimetype": "text/x-python",
   "name": "python",
   "nbconvert_exporter": "python",
   "pygments_lexer": "ipython3",
   "version": "3.6.3"
  }
 },
 "nbformat": 4,
 "nbformat_minor": 2
}
