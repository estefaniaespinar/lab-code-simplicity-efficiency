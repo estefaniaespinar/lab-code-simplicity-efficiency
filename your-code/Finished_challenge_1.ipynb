{
 "cells": [
  {
   "cell_type": "code",
   "execution_count": 5,
   "metadata": {},
   "outputs": [],
   "source": [
    "from modules import Functions_challenge1 as f"
   ]
  },
  {
   "cell_type": "code",
   "execution_count": null,
   "metadata": {},
   "outputs": [
    {
     "name": "stdout",
     "output_type": "stream",
     "text": [
      "Please choose your first number from 0 to 5: dfgh\n",
      "Sorry I don't understand you, enter another number between 0 and 5: \n",
      "Please choose your first number from 0 to 5: 456\n",
      "Please choose your first number from 0 to 5: 4\n",
      "Insert + if you want to sum the number or - if you want to rest it: \n",
      "Sorry I don't understand you, enter + or - signs: .\n"
     ]
    }
   ],
   "source": [
    "a = f.first_number()\n",
    "b = f.signo()\n",
    "c = f.second_number()\n",
    "d = 0\n",
    "\n",
    "if b == \"+\" :\n",
    "    d = (a + c)\n",
    "    print(f'Your result is: {d}')\n",
    "elif b == \"-\" :\n",
    "    d = (a - c)\n",
    "    print(f'Your result is: {d}')\n",
    "else:\n",
    "    print(\"It didn't work\")\n",
    "\n",
    "print(\"Thanks for using this calculator, goodbye :)\")"
   ]
  },
  {
   "cell_type": "code",
   "execution_count": null,
   "metadata": {
    "collapsed": true
   },
   "outputs": [],
   "source": []
  }
 ],
 "metadata": {
  "kernelspec": {
   "display_name": "Python 3",
   "language": "python",
   "name": "python3"
  },
  "language_info": {
   "codemirror_mode": {
    "name": "ipython",
    "version": 3
   },
   "file_extension": ".py",
   "mimetype": "text/x-python",
   "name": "python",
   "nbconvert_exporter": "python",
   "pygments_lexer": "ipython3",
   "version": "3.6.3"
  }
 },
 "nbformat": 4,
 "nbformat_minor": 2
}
