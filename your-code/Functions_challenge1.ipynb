{
 "cells": [
  {
   "cell_type": "code",
   "execution_count": 92,
   "metadata": {},
   "outputs": [],
   "source": [
    "def inicio():\n",
    "    print('Welcome to this calculator!')\n",
    "    print('It can add and subtract whole numbers from zero to five')"
   ]
  },
  {
   "cell_type": "code",
   "execution_count": 93,
   "metadata": {
    "collapsed": true
   },
   "outputs": [],
   "source": [
    "def first_number():\n",
    "    while True:\n",
    "        a = input('Please choose your first number from 0 to 5: ')\n",
    "\n",
    "        if a.isdigit():\n",
    "            if int(a) in range(0,6):\n",
    "                return int(a)\n",
    "        \n",
    "        else :\n",
    "            print(\"Sorry I don't understand you, enter another number between 0 and 5: \")"
   ]
  },
  {
   "cell_type": "code",
   "execution_count": 94,
   "metadata": {
    "collapsed": true
   },
   "outputs": [],
   "source": [
    "def signo():\n",
    "    while True:\n",
    "        b = input('Insert + if you want to sum the number or - if you want to rest it: ')\n",
    "        \n",
    "        if (b.isdigit()) == False | (b.isalpha()) == False:\n",
    "            if b == '+' or b == '-':\n",
    "                return b\n",
    "            else:\n",
    "                input(\"Sorry I don't understand you, enter + or - signs: \")\n",
    "\n",
    "        else:\n",
    "            print(\"Sorry I don't understand you, enter + or - signs: \")"
   ]
  },
  {
   "cell_type": "code",
   "execution_count": 95,
   "metadata": {},
   "outputs": [],
   "source": [
    "d = 0"
   ]
  },
  {
   "cell_type": "code",
   "execution_count": 96,
   "metadata": {
    "collapsed": true
   },
   "outputs": [],
   "source": [
    "def second_number():\n",
    "    while True:\n",
    "        c = input('Please choose your second number from 0 to 5: ')\n",
    "    \n",
    "        if c.isdigit():\n",
    "            if int(c) in range(0,6):\n",
    "                return int(c)\n",
    "\n",
    "        else :\n",
    "\n",
    "            print(\"Sorry I don't understand you, enter another number between 0 and 5: \")"
   ]
  },
  {
   "cell_type": "code",
   "execution_count": 97,
   "metadata": {},
   "outputs": [
    {
     "name": "stdout",
     "output_type": "stream",
     "text": [
      "Please choose your first number from 0 to 5: 2\n",
      "Insert + if you want to sum the number or - if you want to rest it: -\n",
      "Please choose your second number from 0 to 5: 2\n",
      "Your result is: 0\n"
     ]
    }
   ],
   "source": [
    "a = first_number()\n",
    "b = signo()\n",
    "c = second_number()\n",
    "\n",
    "\n",
    "if b == \"+\" :\n",
    "    d = (a + c)\n",
    "    print(f'Your result is: {d}')\n",
    "elif b == \"-\" :\n",
    "    d = (a - c)\n",
    "    print(f'Your result is: {d}')\n",
    "else:\n",
    "    print(\"It didn't work\")"
   ]
  },
  {
   "cell_type": "code",
   "execution_count": 98,
   "metadata": {},
   "outputs": [
    {
     "name": "stdout",
     "output_type": "stream",
     "text": [
      "Thanks for using this calculator, goodbye :)\n"
     ]
    }
   ],
   "source": [
    "print(\"Thanks for using this calculator, goodbye :)\")"
   ]
  }
 ],
 "metadata": {
  "kernelspec": {
   "display_name": "Python 3",
   "language": "python",
   "name": "python3"
  },
  "language_info": {
   "codemirror_mode": {
    "name": "ipython",
    "version": 3
   },
   "file_extension": ".py",
   "mimetype": "text/x-python",
   "name": "python",
   "nbconvert_exporter": "python",
   "pygments_lexer": "ipython3",
   "version": "3.6.3"
  }
 },
 "nbformat": 4,
 "nbformat_minor": 2
}
